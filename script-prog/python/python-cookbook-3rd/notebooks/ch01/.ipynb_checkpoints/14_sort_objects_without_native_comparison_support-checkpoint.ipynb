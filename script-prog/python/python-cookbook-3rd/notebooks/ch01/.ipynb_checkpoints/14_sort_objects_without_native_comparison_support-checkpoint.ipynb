{
 "cells": [
  {
   "cell_type": "markdown",
   "metadata": {},
   "source": [
    "# Sorting Objects Without Native Comparison Support"
   ]
  },
  {
   "cell_type": "markdown",
   "metadata": {},
   "source": [
    "## Problem\n",
    "\n",
    "- You want to sort objects of the same class, but they don’t natively support comparison operations."
   ]
  },
  {
   "cell_type": "markdown",
   "metadata": {},
   "source": [
    "## Solution"
   ]
  },
  {
   "cell_type": "markdown",
   "metadata": {},
   "source": [
    "- The built-in __`sorted()`__ function takes a key argument that can be passed a callable that will return some value in the object that sorted will use to compare the objects. "
   ]
  },
  {
   "cell_type": "code",
   "execution_count": 3,
   "metadata": {
    "collapsed": false
   },
   "outputs": [
    {
     "name": "stdout",
     "output_type": "stream",
     "text": [
      "[User(23), User(3), User(99)]\n",
      "[User(3), User(23), User(99)]\n",
      "[User(3), User(23), User(99)]\n"
     ]
    }
   ],
   "source": [
    "from operator import attrgetter\n",
    "\n",
    "class User:\n",
    "    def __init__(self, user_id):\n",
    "        self.user_id = user_id\n",
    "    def __repr__(self):\n",
    "        return 'User({})'.format(self.user_id)\n",
    "\n",
    "# Example\n",
    "users = [User(23), User(3), User(99)]\n",
    "print(users)\n",
    "\n",
    "# Sort by user-id using lambda\n",
    "print(sorted(users, key=lambda u: u.user_id))\n",
    "\n",
    "# Sort it by user-id using attrgetter\n",
    "print(sorted(users, key=attrgetter('user_id')))\n"
   ]
  },
  {
   "cell_type": "markdown",
   "metadata": {
    "collapsed": false
   },
   "source": [
    "## Discussion\n",
    "\n",
    "- `attrgetter()` is often a tad bit faster and also has the added feature of allowing multiple fields to be extracted simultaneously. \n",
    "- For example, if User instances also had a first_name and last_name attribute, you could perform a sort like this:"
   ]
  },
  {
   "cell_type": "raw",
   "metadata": {
    "collapsed": false
   },
   "source": [
    "by_name = sorted(users, key=attrgetter('last_name', 'first_name'))"
   ]
  }
 ],
 "metadata": {
  "kernelspec": {
   "display_name": "Python 3",
   "language": "python",
   "name": "python3"
  },
  "language_info": {
   "codemirror_mode": {
    "name": "ipython",
    "version": 3
   },
   "file_extension": ".py",
   "mimetype": "text/x-python",
   "name": "python",
   "nbconvert_exporter": "python",
   "pygments_lexer": "ipython3",
   "version": "3.5.2"
  },
  "toc": {
   "toc_cell": false,
   "toc_number_sections": false,
   "toc_threshold": "8",
   "toc_window_display": false
  }
 },
 "nbformat": 4,
 "nbformat_minor": 0
}
